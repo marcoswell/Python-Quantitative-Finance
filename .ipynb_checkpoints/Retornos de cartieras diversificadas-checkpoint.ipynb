{
 "cells": [
  {
   "cell_type": "markdown",
   "id": "4d31ff38-0cbb-4274-9a76-5116cd32da73",
   "metadata": {},
   "source": [
    "# Carteira bom pouco ativos x carteira com muitos ativos "
   ]
  },
  {
   "cell_type": "code",
   "execution_count": 1,
   "id": "83145d89-dda1-4dd7-857f-5b76b2ee8a68",
   "metadata": {},
   "outputs": [],
   "source": [
    "import pandas as pd \n",
    "import numpy as np \n",
    "import yfinance as yf # Para baixar os dados da B3\n",
    "import random \n",
    "import plotly.graph_objects as go\n",
    "\n",
    "import warnings\n",
    "warnings.simplefilter('ignore')"
   ]
  },
  {
   "cell_type": "markdown",
   "id": "142a99b9-f104-4abe-94de-15246325f7f9",
   "metadata": {},
   "source": [
    "# Criando portifólios com baixa diversificação de ações e com extrema diversificação "
   ]
  },
  {
   "cell_type": "code",
   "execution_count": 2,
   "id": "f65a53e8-8add-43a4-a84d-a446bac7479b",
   "metadata": {},
   "outputs": [],
   "source": [
    "symbols = ['RRRP3','ALOS3','ALPA4','ABEV3','ASAI3','AZUL4','AZZA3','B3SA3','BBSE3','BBDC3','BBDC4'\n",
    "           ,'BRAP4','BBAS3','BRKM5','BRFS3','BPAC11','CRFB3','CCRO3','CMIG4','CIEL3','COGN3'\n",
    "          ,'CPLE6','CSAN3','CPFE3','CMIN3','CVCB3','CYRE3','DXCO3','ELET3'\n",
    "           ,'ELET6','EMBR3','ENGI11','ENEV3','EGIE3','EQTL3','EZTC3','FLRY3','GGBR4','GOAU4'\n",
    "           ,'NTCO3','HAPV3','HYPE3','IGTI11','IRBR3'\n",
    "           ,'ITSA4','ITUB4','JBSS3','KLBN11','RENT3','LREN3','LWSA3','MGLU3','MRFG3','BEEF3','MRVE3'\n",
    "           ,'MULT3','PCAR3','PETR3','PETR4','RECV3','PRIO3','PETZ3','RADL3'\n",
    "           ,'RAIZ4','RDOR3','RAIL3','SBSP3','SANB11','SMTO3','CSNA3','SLCE3','SUZB3','TAEE11','VIVT3','TIMS3'\n",
    "           ,'TOTS3','TRPL4','UGPA3','USIM5','VALE3','VAMO3','VBBR3','VIVA3','WEGE3','YDUQ3']\n",
    "\n",
    "# Iremos acrescentar o '.SA' para podermos baixar a cotação da ação no yahoo finance \n",
    "symbols=[sy +'.SA' for sy in symbols[:-1]]"
   ]
  },
  {
   "cell_type": "code",
   "execution_count": 3,
   "id": "525470b1-0b0b-43ea-b8b6-afa7152ac28e",
   "metadata": {},
   "outputs": [],
   "source": [
    "# numero de ações que o primeiro portifólio possui \n",
    "num_tickers = 5\n",
    "\n",
    "# numero de ações que o segundo portifólio possui \n",
    "num_tickers2 = 15"
   ]
  },
  {
   "cell_type": "code",
   "execution_count": 4,
   "id": "550a7f2c-24ba-4bcd-b943-028526476893",
   "metadata": {},
   "outputs": [],
   "source": [
    "# nomes das colunas \n",
    "# portifólio 1\n",
    "colunas = [f'ticker_{i+1}' for i in range(num_tickers)]\n",
    "# portifólio 2\n",
    "colunas2 = [f'ticker_{i+1}' for i in range(num_tickers2)]\n",
    "\n",
    "# criando o data-frame\n",
    "\n",
    "port_tickers = pd.DataFrame( columns = colunas) # criando o data-frame vazio apenas com os nomes das colunas\n",
    "port_tickers2 = pd.DataFrame( columns = colunas2) "
   ]
  },
  {
   "cell_type": "code",
   "execution_count": 5,
   "id": "3264b209-25a9-4f80-9fec-dd12425ca2e8",
   "metadata": {},
   "outputs": [
    {
     "data": {
      "text/html": [
       "<div>\n",
       "<style scoped>\n",
       "    .dataframe tbody tr th:only-of-type {\n",
       "        vertical-align: middle;\n",
       "    }\n",
       "\n",
       "    .dataframe tbody tr th {\n",
       "        vertical-align: top;\n",
       "    }\n",
       "\n",
       "    .dataframe thead th {\n",
       "        text-align: right;\n",
       "    }\n",
       "</style>\n",
       "<table border=\"1\" class=\"dataframe\">\n",
       "  <thead>\n",
       "    <tr style=\"text-align: right;\">\n",
       "      <th></th>\n",
       "      <th>ticker_1</th>\n",
       "      <th>ticker_2</th>\n",
       "      <th>ticker_3</th>\n",
       "      <th>ticker_4</th>\n",
       "      <th>ticker_5</th>\n",
       "      <th>ticker_6</th>\n",
       "      <th>ticker_7</th>\n",
       "      <th>ticker_8</th>\n",
       "      <th>ticker_9</th>\n",
       "      <th>ticker_10</th>\n",
       "      <th>ticker_11</th>\n",
       "      <th>ticker_12</th>\n",
       "      <th>ticker_13</th>\n",
       "      <th>ticker_14</th>\n",
       "      <th>ticker_15</th>\n",
       "    </tr>\n",
       "  </thead>\n",
       "  <tbody>\n",
       "  </tbody>\n",
       "</table>\n",
       "</div>"
      ],
      "text/plain": [
       "Empty DataFrame\n",
       "Columns: [ticker_1, ticker_2, ticker_3, ticker_4, ticker_5, ticker_6, ticker_7, ticker_8, ticker_9, ticker_10, ticker_11, ticker_12, ticker_13, ticker_14, ticker_15]\n",
       "Index: []"
      ]
     },
     "execution_count": 5,
     "metadata": {},
     "output_type": "execute_result"
    }
   ],
   "source": [
    "port_tickers2"
   ]
  },
  {
   "cell_type": "code",
   "execution_count": 6,
   "id": "b5e538a2-c4b0-4cef-9315-d5d430eb09d9",
   "metadata": {},
   "outputs": [
    {
     "data": {
      "text/plain": [
       "['LREN3.SA', 'AZUL4.SA', 'RECV3.SA', 'LWSA3.SA', 'RAIZ4.SA']"
      ]
     },
     "execution_count": 6,
     "metadata": {},
     "output_type": "execute_result"
    }
   ],
   "source": [
    "# Criando uma carteira com ações de forma aleatória \n",
    "\n",
    "random.sample(symbols, 5)"
   ]
  }
 ],
 "metadata": {
  "kernelspec": {
   "display_name": "Python 3 (ipykernel)",
   "language": "python",
   "name": "python3"
  },
  "language_info": {
   "codemirror_mode": {
    "name": "ipython",
    "version": 3
   },
   "file_extension": ".py",
   "mimetype": "text/x-python",
   "name": "python",
   "nbconvert_exporter": "python",
   "pygments_lexer": "ipython3",
   "version": "3.12.4"
  }
 },
 "nbformat": 4,
 "nbformat_minor": 5
}
