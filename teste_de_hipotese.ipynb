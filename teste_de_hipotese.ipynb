{
 "cells": [
  {
   "cell_type": "markdown",
   "metadata": {},
   "source": [
    "# **Teste de Hipótese Aplicando ao Mercado Financeiro**\n",
    "\n",
    "## **Teste de Hipótese sobre duas médias populacionais**\n",
    "\n",
    "* $\\sigma{1}$ e $\\sigma{2}$ são conhecidos \n",
    "* Amostras Independentes\n",
    "\n",
    "\n",
    "$\n",
    "Z = \\frac{(x_1 - x_2)}{\\sqrt{\\frac{\\sigma_1^2}{n_1} + \\frac{\\sigma_2^2}{n_2}}}\n",
    "$\n",
    "\n",
    "\n",
    "### A idéia do código é comparar retornos de dois períodos diferentes utilizando conceitos de teste de hipótese"
   ]
  },
  {
   "cell_type": "code",
   "execution_count": 1,
   "metadata": {},
   "outputs": [],
   "source": [
    "\n",
    "\n",
    "# Imports\n",
    "\n",
    "import pandas as pd\n",
    "import numpy as np\n",
    "import yfinance as yf\n",
    "from plotly.subplots import make_subplots\n",
    "import plotly.graph_objects as go\n",
    "\n",
    "import matplotlib.pyplot as plt\n",
    "from matplotlib.dates import DateFormatter # formatar a data no eixo x \n",
    "import matplotlib.gridspec as gridspec # subplots com tamanhos diferentes\n",
    "plt.style.use('seaborn-v0_8-darkgrid') # mudar o estilo do matplotlib\n",
    "from datetime import datetime, timedelta\n",
    "import requests\n",
    "\n",
    "\n",
    "get_ipython().run_line_magic(\"matplotlib\", \"inline\")\n",
    "import warnings\n",
    "warnings.filterwarnings(\"ignore\")"
   ]
  },
  {
   "cell_type": "markdown",
   "metadata": {},
   "source": [
    "## Coletando os dados "
   ]
  },
  {
   "cell_type": "code",
   "execution_count": 2,
   "metadata": {},
   "outputs": [],
   "source": [
    "# funçao para obter dados históricos da binance\n",
    "def get_klines(symbol, interval, limit = 360):\n",
    "    url = 'https://api.binance.com./api/v3/klines'\n",
    "    params = {'symbol': symbol, 'interval': interval, 'limit': limit}\n",
    "    response = requests.get(url, params=params)\n",
    "    data = response.json()\n",
    "    df = pd.DataFrame(data, \n",
    "                      columns = ['timestamp', 'open','high','low','Close','volume',\n",
    "                                '-','-','-','-','-','-'\n",
    "                                ])\n",
    "    df['timestamp'] = pd.to_datetime(df['timestamp'], unit='ms')\n",
    "    df.set_index('timestamp', inplace=True)\n",
    "    df['Close'] = df['Close'].astype(float)\n",
    "\n",
    "    # Retornos\n",
    "    df[\"Returns\"] = df[\"Close\"].pct_change(1)\n",
    "\n",
    "    return df[['Close', 'Returns']]"
   ]
  },
  {
   "cell_type": "code",
   "execution_count": 3,
   "metadata": {},
   "outputs": [
    {
     "name": "stdout",
     "output_type": "stream",
     "text": [
      "               Close   Returns\n",
      "Date                          \n",
      "2024-06-30  62772.01       NaN\n",
      "2024-07-01  62899.99  0.002039\n",
      "2024-07-02  62135.47 -0.012155\n",
      "2024-07-03  60208.58 -0.031011\n",
      "2024-07-04  57050.01 -0.052460\n"
     ]
    }
   ],
   "source": [
    "TICKER = 'BTCUSDT' # Ticker a ser utilizado\n",
    "\n",
    "df1 = get_klines(TICKER, '1d', 360)\n",
    "\n",
    "# Ajudando o index \n",
    "df1 = df1.reset_index()\n",
    "df1.rename(columns={'timestamp': 'Date'}, inplace=True)\n",
    "df1.set_index('Date', inplace=True)\n",
    "\n",
    "\n",
    "print(df1.head())"
   ]
  },
  {
   "cell_type": "code",
   "execution_count": 4,
   "metadata": {},
   "outputs": [
    {
     "data": {
      "application/vnd.microsoft.datawrangler.viewer.v0+json": {
       "columns": [
        {
         "name": "Date",
         "rawType": "datetime64[ns]",
         "type": "datetime"
        },
        {
         "name": "Close",
         "rawType": "float64",
         "type": "float"
        },
        {
         "name": "Returns",
         "rawType": "float64",
         "type": "float"
        },
        {
         "name": "Target",
         "rawType": "float64",
         "type": "float"
        }
       ],
       "ref": "8114525f-64d8-4cef-9dac-7c9c71cf2c0a",
       "rows": [
        [
         "2024-06-30 00:00:00",
         "62772.01",
         null,
         "0.002038806786655245"
        ],
        [
         "2024-07-01 00:00:00",
         "62899.99",
         "0.002038806786655245",
         "-0.01215453293394797"
        ],
        [
         "2024-07-02 00:00:00",
         "62135.47",
         "-0.01215453293394797",
         "-0.031011111688702075"
        ],
        [
         "2024-07-03 00:00:00",
         "60208.58",
         "-0.031011111688702075",
         "-0.05246046327616427"
        ],
        [
         "2024-07-04 00:00:00",
         "57050.01",
         "-0.05246046327616427",
         "-0.007383346646214428"
        ]
       ],
       "shape": {
        "columns": 3,
        "rows": 5
       }
      },
      "text/html": [
       "<div>\n",
       "<style scoped>\n",
       "    .dataframe tbody tr th:only-of-type {\n",
       "        vertical-align: middle;\n",
       "    }\n",
       "\n",
       "    .dataframe tbody tr th {\n",
       "        vertical-align: top;\n",
       "    }\n",
       "\n",
       "    .dataframe thead th {\n",
       "        text-align: right;\n",
       "    }\n",
       "</style>\n",
       "<table border=\"1\" class=\"dataframe\">\n",
       "  <thead>\n",
       "    <tr style=\"text-align: right;\">\n",
       "      <th></th>\n",
       "      <th>Close</th>\n",
       "      <th>Returns</th>\n",
       "      <th>Target</th>\n",
       "    </tr>\n",
       "    <tr>\n",
       "      <th>Date</th>\n",
       "      <th></th>\n",
       "      <th></th>\n",
       "      <th></th>\n",
       "    </tr>\n",
       "  </thead>\n",
       "  <tbody>\n",
       "    <tr>\n",
       "      <th>2024-06-30</th>\n",
       "      <td>62772.01</td>\n",
       "      <td>NaN</td>\n",
       "      <td>0.002039</td>\n",
       "    </tr>\n",
       "    <tr>\n",
       "      <th>2024-07-01</th>\n",
       "      <td>62899.99</td>\n",
       "      <td>0.002039</td>\n",
       "      <td>-0.012155</td>\n",
       "    </tr>\n",
       "    <tr>\n",
       "      <th>2024-07-02</th>\n",
       "      <td>62135.47</td>\n",
       "      <td>-0.012155</td>\n",
       "      <td>-0.031011</td>\n",
       "    </tr>\n",
       "    <tr>\n",
       "      <th>2024-07-03</th>\n",
       "      <td>60208.58</td>\n",
       "      <td>-0.031011</td>\n",
       "      <td>-0.052460</td>\n",
       "    </tr>\n",
       "    <tr>\n",
       "      <th>2024-07-04</th>\n",
       "      <td>57050.01</td>\n",
       "      <td>-0.052460</td>\n",
       "      <td>-0.007383</td>\n",
       "    </tr>\n",
       "  </tbody>\n",
       "</table>\n",
       "</div>"
      ],
      "text/plain": [
       "               Close   Returns    Target\n",
       "Date                                    \n",
       "2024-06-30  62772.01       NaN  0.002039\n",
       "2024-07-01  62899.99  0.002039 -0.012155\n",
       "2024-07-02  62135.47 -0.012155 -0.031011\n",
       "2024-07-03  60208.58 -0.031011 -0.052460\n",
       "2024-07-04  57050.01 -0.052460 -0.007383"
      ]
     },
     "execution_count": 4,
     "metadata": {},
     "output_type": "execute_result"
    }
   ],
   "source": [
    "df1[\"Returns\"] = df1[\"Close\"].pct_change(1)\n",
    "df1[\"Target\"] = df1[\"Returns\"].shift(-1)\n",
    "df1.head()"
   ]
  },
  {
   "cell_type": "markdown",
   "metadata": {},
   "source": [
    "## Separando os dados das amostras"
   ]
  },
  {
   "cell_type": "code",
   "execution_count": 5,
   "metadata": {},
   "outputs": [],
   "source": [
    "N_DIAS = 30 # Número de dias a serem avaliados para cada grupo \n",
    "\n",
    "LAG_DAYS = N_DIAS*2 # Números de dias de lags a serem criados \n",
    "\n",
    "# Criando as colunas de lag para os retornos\n",
    "for i in range(LAG_DAYS):\n",
    "    df1[f'lag_{i+1}'] = df1['Returns'].shift(i+1)"
   ]
  },
  {
   "cell_type": "code",
   "execution_count": 6,
   "metadata": {},
   "outputs": [
    {
     "data": {
      "application/vnd.microsoft.datawrangler.viewer.v0+json": {
       "columns": [
        {
         "name": "Date",
         "rawType": "datetime64[ns]",
         "type": "datetime"
        },
        {
         "name": "Close",
         "rawType": "float64",
         "type": "float"
        },
        {
         "name": "Returns",
         "rawType": "float64",
         "type": "float"
        },
        {
         "name": "Target",
         "rawType": "float64",
         "type": "float"
        },
        {
         "name": "lag_1",
         "rawType": "float64",
         "type": "float"
        },
        {
         "name": "lag_2",
         "rawType": "float64",
         "type": "float"
        },
        {
         "name": "lag_3",
         "rawType": "float64",
         "type": "float"
        },
        {
         "name": "lag_4",
         "rawType": "float64",
         "type": "float"
        },
        {
         "name": "lag_5",
         "rawType": "float64",
         "type": "float"
        },
        {
         "name": "lag_6",
         "rawType": "float64",
         "type": "float"
        },
        {
         "name": "lag_7",
         "rawType": "float64",
         "type": "float"
        },
        {
         "name": "lag_8",
         "rawType": "float64",
         "type": "float"
        },
        {
         "name": "lag_9",
         "rawType": "float64",
         "type": "float"
        },
        {
         "name": "lag_10",
         "rawType": "float64",
         "type": "float"
        },
        {
         "name": "lag_11",
         "rawType": "float64",
         "type": "float"
        },
        {
         "name": "lag_12",
         "rawType": "float64",
         "type": "float"
        },
        {
         "name": "lag_13",
         "rawType": "float64",
         "type": "float"
        },
        {
         "name": "lag_14",
         "rawType": "float64",
         "type": "float"
        },
        {
         "name": "lag_15",
         "rawType": "float64",
         "type": "float"
        },
        {
         "name": "lag_16",
         "rawType": "float64",
         "type": "float"
        },
        {
         "name": "lag_17",
         "rawType": "float64",
         "type": "float"
        },
        {
         "name": "lag_18",
         "rawType": "float64",
         "type": "float"
        },
        {
         "name": "lag_19",
         "rawType": "float64",
         "type": "float"
        },
        {
         "name": "lag_20",
         "rawType": "float64",
         "type": "float"
        },
        {
         "name": "lag_21",
         "rawType": "float64",
         "type": "float"
        },
        {
         "name": "lag_22",
         "rawType": "float64",
         "type": "float"
        },
        {
         "name": "lag_23",
         "rawType": "float64",
         "type": "float"
        },
        {
         "name": "lag_24",
         "rawType": "float64",
         "type": "float"
        },
        {
         "name": "lag_25",
         "rawType": "float64",
         "type": "float"
        },
        {
         "name": "lag_26",
         "rawType": "float64",
         "type": "float"
        },
        {
         "name": "lag_27",
         "rawType": "float64",
         "type": "float"
        },
        {
         "name": "lag_28",
         "rawType": "float64",
         "type": "float"
        },
        {
         "name": "lag_29",
         "rawType": "float64",
         "type": "float"
        },
        {
         "name": "lag_30",
         "rawType": "float64",
         "type": "float"
        },
        {
         "name": "lag_31",
         "rawType": "float64",
         "type": "float"
        },
        {
         "name": "lag_32",
         "rawType": "float64",
         "type": "float"
        },
        {
         "name": "lag_33",
         "rawType": "float64",
         "type": "float"
        },
        {
         "name": "lag_34",
         "rawType": "float64",
         "type": "float"
        },
        {
         "name": "lag_35",
         "rawType": "float64",
         "type": "float"
        },
        {
         "name": "lag_36",
         "rawType": "float64",
         "type": "float"
        },
        {
         "name": "lag_37",
         "rawType": "float64",
         "type": "float"
        },
        {
         "name": "lag_38",
         "rawType": "float64",
         "type": "float"
        },
        {
         "name": "lag_39",
         "rawType": "float64",
         "type": "float"
        },
        {
         "name": "lag_40",
         "rawType": "float64",
         "type": "float"
        },
        {
         "name": "lag_41",
         "rawType": "float64",
         "type": "float"
        },
        {
         "name": "lag_42",
         "rawType": "float64",
         "type": "float"
        },
        {
         "name": "lag_43",
         "rawType": "float64",
         "type": "float"
        },
        {
         "name": "lag_44",
         "rawType": "float64",
         "type": "float"
        },
        {
         "name": "lag_45",
         "rawType": "float64",
         "type": "float"
        },
        {
         "name": "lag_46",
         "rawType": "float64",
         "type": "float"
        },
        {
         "name": "lag_47",
         "rawType": "float64",
         "type": "float"
        },
        {
         "name": "lag_48",
         "rawType": "float64",
         "type": "float"
        },
        {
         "name": "lag_49",
         "rawType": "float64",
         "type": "float"
        },
        {
         "name": "lag_50",
         "rawType": "float64",
         "type": "float"
        },
        {
         "name": "lag_51",
         "rawType": "float64",
         "type": "float"
        },
        {
         "name": "lag_52",
         "rawType": "float64",
         "type": "float"
        },
        {
         "name": "lag_53",
         "rawType": "float64",
         "type": "float"
        },
        {
         "name": "lag_54",
         "rawType": "float64",
         "type": "float"
        },
        {
         "name": "lag_55",
         "rawType": "float64",
         "type": "float"
        },
        {
         "name": "lag_56",
         "rawType": "float64",
         "type": "float"
        },
        {
         "name": "lag_57",
         "rawType": "float64",
         "type": "float"
        },
        {
         "name": "lag_58",
         "rawType": "float64",
         "type": "float"
        },
        {
         "name": "lag_59",
         "rawType": "float64",
         "type": "float"
        },
        {
         "name": "lag_60",
         "rawType": "float64",
         "type": "float"
        }
       ],
       "ref": "c790d57a-1c4d-4511-85ff-85267c1d2c1c",
       "rows": [
        [
         "2025-06-20 00:00:00",
         "103297.99",
         "-0.013000366238452021",
         "-0.011403706887229914",
         "-0.002175583996381625",
         "0.0032100071190022117",
         "-0.02100631933114927",
         "0.011369205507016922",
         "0.0017015663099546607",
         "-0.0061466103511010894",
         "0.003736666372359032",
         "-0.027367911232460296",
         "-0.014774690660270262",
         "0.00010311707406529536",
         "0.042834093101556725",
         "0.0017228450581063814",
         "0.012117450409652175",
         "0.027384456186406947",
         "-0.030451534076571196",
         "-0.00645331248625769",
         "-0.004544767948078454",
         "0.0020357254385126033",
         "0.0100490592577549",
         "0.005831583409529939",
         "-0.015193425498213675",
         "-0.02033766746104948",
         "-0.010615103962183348",
         "-0.004538044985511469",
         "0.003950306864350717",
         "0.011528006509906819",
         "0.004133591381898505",
         "-0.03919479452346686",
         "0.018717122570968137",
         "0.02614880918566298",
         "0.012088706907607882",
         "-0.008271345834351629",
         "0.0322672170578604",
         "-0.00325959102643536",
         "-0.002889353127408567",
         "0.0024721803627976158",
         "-0.005724099004339123",
         "0.012767615008738131",
         "-0.01274208110028996",
         "-0.006597968715249425",
         "0.017845046988020696",
         "-0.002804624371499198",
         "0.06421795208723036",
         "0.0020290389679165077",
         "0.022170995574119168",
         "0.0048374152847727725",
         "-0.016470466975503584",
         "-0.010638357164841517",
         "0.004116803508263045",
         "0.024613579407891883",
         "-0.0008998818334843284",
         "-0.007939697201950202",
         "0.013460153835815225",
         "-0.009285835059390402",
         "-0.0001128502637609552",
         "0.007003689170739236",
         "0.0030887678955136",
         "0.0026549878166355345",
         "0.0677218385664009",
         "0.02743614523914495"
        ],
        [
         "2025-06-21 00:00:00",
         "102120.01",
         "-0.011403706887229914",
         "-0.01132138549535977",
         "-0.013000366238452021",
         "-0.002175583996381625",
         "0.0032100071190022117",
         "-0.02100631933114927",
         "0.011369205507016922",
         "0.0017015663099546607",
         "-0.0061466103511010894",
         "0.003736666372359032",
         "-0.027367911232460296",
         "-0.014774690660270262",
         "0.00010311707406529536",
         "0.042834093101556725",
         "0.0017228450581063814",
         "0.012117450409652175",
         "0.027384456186406947",
         "-0.030451534076571196",
         "-0.00645331248625769",
         "-0.004544767948078454",
         "0.0020357254385126033",
         "0.0100490592577549",
         "0.005831583409529939",
         "-0.015193425498213675",
         "-0.02033766746104948",
         "-0.010615103962183348",
         "-0.004538044985511469",
         "0.003950306864350717",
         "0.011528006509906819",
         "0.004133591381898505",
         "-0.03919479452346686",
         "0.018717122570968137",
         "0.02614880918566298",
         "0.012088706907607882",
         "-0.008271345834351629",
         "0.0322672170578604",
         "-0.00325959102643536",
         "-0.002889353127408567",
         "0.0024721803627976158",
         "-0.005724099004339123",
         "0.012767615008738131",
         "-0.01274208110028996",
         "-0.006597968715249425",
         "0.017845046988020696",
         "-0.002804624371499198",
         "0.06421795208723036",
         "0.0020290389679165077",
         "0.022170995574119168",
         "0.0048374152847727725",
         "-0.016470466975503584",
         "-0.010638357164841517",
         "0.004116803508263045",
         "0.024613579407891883",
         "-0.0008998818334843284",
         "-0.007939697201950202",
         "0.013460153835815225",
         "-0.009285835059390402",
         "-0.0001128502637609552",
         "0.007003689170739236",
         "0.0030887678955136",
         "0.0026549878166355345",
         "0.0677218385664009"
        ],
        [
         "2025-06-22 00:00:00",
         "100963.87",
         "-0.01132138549535977",
         "0.043283404251441615",
         "-0.011403706887229914",
         "-0.013000366238452021",
         "-0.002175583996381625",
         "0.0032100071190022117",
         "-0.02100631933114927",
         "0.011369205507016922",
         "0.0017015663099546607",
         "-0.0061466103511010894",
         "0.003736666372359032",
         "-0.027367911232460296",
         "-0.014774690660270262",
         "0.00010311707406529536",
         "0.042834093101556725",
         "0.0017228450581063814",
         "0.012117450409652175",
         "0.027384456186406947",
         "-0.030451534076571196",
         "-0.00645331248625769",
         "-0.004544767948078454",
         "0.0020357254385126033",
         "0.0100490592577549",
         "0.005831583409529939",
         "-0.015193425498213675",
         "-0.02033766746104948",
         "-0.010615103962183348",
         "-0.004538044985511469",
         "0.003950306864350717",
         "0.011528006509906819",
         "0.004133591381898505",
         "-0.03919479452346686",
         "0.018717122570968137",
         "0.02614880918566298",
         "0.012088706907607882",
         "-0.008271345834351629",
         "0.0322672170578604",
         "-0.00325959102643536",
         "-0.002889353127408567",
         "0.0024721803627976158",
         "-0.005724099004339123",
         "0.012767615008738131",
         "-0.01274208110028996",
         "-0.006597968715249425",
         "0.017845046988020696",
         "-0.002804624371499198",
         "0.06421795208723036",
         "0.0020290389679165077",
         "0.022170995574119168",
         "0.0048374152847727725",
         "-0.016470466975503584",
         "-0.010638357164841517",
         "0.004116803508263045",
         "0.024613579407891883",
         "-0.0008998818334843284",
         "-0.007939697201950202",
         "0.013460153835815225",
         "-0.009285835059390402",
         "-0.0001128502637609552",
         "0.007003689170739236",
         "0.0030887678955136",
         "0.0026549878166355345"
        ],
        [
         "2025-06-23 00:00:00",
         "105333.93",
         "0.043283404251441615",
         "0.0008171156245666555",
         "-0.01132138549535977",
         "-0.011403706887229914",
         "-0.013000366238452021",
         "-0.002175583996381625",
         "0.0032100071190022117",
         "-0.02100631933114927",
         "0.011369205507016922",
         "0.0017015663099546607",
         "-0.0061466103511010894",
         "0.003736666372359032",
         "-0.027367911232460296",
         "-0.014774690660270262",
         "0.00010311707406529536",
         "0.042834093101556725",
         "0.0017228450581063814",
         "0.012117450409652175",
         "0.027384456186406947",
         "-0.030451534076571196",
         "-0.00645331248625769",
         "-0.004544767948078454",
         "0.0020357254385126033",
         "0.0100490592577549",
         "0.005831583409529939",
         "-0.015193425498213675",
         "-0.02033766746104948",
         "-0.010615103962183348",
         "-0.004538044985511469",
         "0.003950306864350717",
         "0.011528006509906819",
         "0.004133591381898505",
         "-0.03919479452346686",
         "0.018717122570968137",
         "0.02614880918566298",
         "0.012088706907607882",
         "-0.008271345834351629",
         "0.0322672170578604",
         "-0.00325959102643536",
         "-0.002889353127408567",
         "0.0024721803627976158",
         "-0.005724099004339123",
         "0.012767615008738131",
         "-0.01274208110028996",
         "-0.006597968715249425",
         "0.017845046988020696",
         "-0.002804624371499198",
         "0.06421795208723036",
         "0.0020290389679165077",
         "0.022170995574119168",
         "0.0048374152847727725",
         "-0.016470466975503584",
         "-0.010638357164841517",
         "0.004116803508263045",
         "0.024613579407891883",
         "-0.0008998818334843284",
         "-0.007939697201950202",
         "0.013460153835815225",
         "-0.009285835059390402",
         "-0.0001128502637609552",
         "0.007003689170739236",
         "0.0030887678955136"
        ],
        [
         "2025-06-24 00:00:00",
         "105420.0",
         "0.0008171156245666555",
         null,
         "0.043283404251441615",
         "-0.01132138549535977",
         "-0.011403706887229914",
         "-0.013000366238452021",
         "-0.002175583996381625",
         "0.0032100071190022117",
         "-0.02100631933114927",
         "0.011369205507016922",
         "0.0017015663099546607",
         "-0.0061466103511010894",
         "0.003736666372359032",
         "-0.027367911232460296",
         "-0.014774690660270262",
         "0.00010311707406529536",
         "0.042834093101556725",
         "0.0017228450581063814",
         "0.012117450409652175",
         "0.027384456186406947",
         "-0.030451534076571196",
         "-0.00645331248625769",
         "-0.004544767948078454",
         "0.0020357254385126033",
         "0.0100490592577549",
         "0.005831583409529939",
         "-0.015193425498213675",
         "-0.02033766746104948",
         "-0.010615103962183348",
         "-0.004538044985511469",
         "0.003950306864350717",
         "0.011528006509906819",
         "0.004133591381898505",
         "-0.03919479452346686",
         "0.018717122570968137",
         "0.02614880918566298",
         "0.012088706907607882",
         "-0.008271345834351629",
         "0.0322672170578604",
         "-0.00325959102643536",
         "-0.002889353127408567",
         "0.0024721803627976158",
         "-0.005724099004339123",
         "0.012767615008738131",
         "-0.01274208110028996",
         "-0.006597968715249425",
         "0.017845046988020696",
         "-0.002804624371499198",
         "0.06421795208723036",
         "0.0020290389679165077",
         "0.022170995574119168",
         "0.0048374152847727725",
         "-0.016470466975503584",
         "-0.010638357164841517",
         "0.004116803508263045",
         "0.024613579407891883",
         "-0.0008998818334843284",
         "-0.007939697201950202",
         "0.013460153835815225",
         "-0.009285835059390402",
         "-0.0001128502637609552",
         "0.007003689170739236"
        ]
       ],
       "shape": {
        "columns": 63,
        "rows": 5
       }
      },
      "text/html": [
       "<div>\n",
       "<style scoped>\n",
       "    .dataframe tbody tr th:only-of-type {\n",
       "        vertical-align: middle;\n",
       "    }\n",
       "\n",
       "    .dataframe tbody tr th {\n",
       "        vertical-align: top;\n",
       "    }\n",
       "\n",
       "    .dataframe thead th {\n",
       "        text-align: right;\n",
       "    }\n",
       "</style>\n",
       "<table border=\"1\" class=\"dataframe\">\n",
       "  <thead>\n",
       "    <tr style=\"text-align: right;\">\n",
       "      <th></th>\n",
       "      <th>Close</th>\n",
       "      <th>Returns</th>\n",
       "      <th>Target</th>\n",
       "      <th>lag_1</th>\n",
       "      <th>lag_2</th>\n",
       "      <th>lag_3</th>\n",
       "      <th>lag_4</th>\n",
       "      <th>lag_5</th>\n",
       "      <th>lag_6</th>\n",
       "      <th>lag_7</th>\n",
       "      <th>...</th>\n",
       "      <th>lag_51</th>\n",
       "      <th>lag_52</th>\n",
       "      <th>lag_53</th>\n",
       "      <th>lag_54</th>\n",
       "      <th>lag_55</th>\n",
       "      <th>lag_56</th>\n",
       "      <th>lag_57</th>\n",
       "      <th>lag_58</th>\n",
       "      <th>lag_59</th>\n",
       "      <th>lag_60</th>\n",
       "    </tr>\n",
       "    <tr>\n",
       "      <th>Date</th>\n",
       "      <th></th>\n",
       "      <th></th>\n",
       "      <th></th>\n",
       "      <th></th>\n",
       "      <th></th>\n",
       "      <th></th>\n",
       "      <th></th>\n",
       "      <th></th>\n",
       "      <th></th>\n",
       "      <th></th>\n",
       "      <th></th>\n",
       "      <th></th>\n",
       "      <th></th>\n",
       "      <th></th>\n",
       "      <th></th>\n",
       "      <th></th>\n",
       "      <th></th>\n",
       "      <th></th>\n",
       "      <th></th>\n",
       "      <th></th>\n",
       "      <th></th>\n",
       "    </tr>\n",
       "  </thead>\n",
       "  <tbody>\n",
       "    <tr>\n",
       "      <th>2025-06-20</th>\n",
       "      <td>103297.99</td>\n",
       "      <td>-0.013000</td>\n",
       "      <td>-0.011404</td>\n",
       "      <td>-0.002176</td>\n",
       "      <td>0.003210</td>\n",
       "      <td>-0.021006</td>\n",
       "      <td>0.011369</td>\n",
       "      <td>0.001702</td>\n",
       "      <td>-0.006147</td>\n",
       "      <td>0.003737</td>\n",
       "      <td>...</td>\n",
       "      <td>-0.000900</td>\n",
       "      <td>-0.007940</td>\n",
       "      <td>0.013460</td>\n",
       "      <td>-0.009286</td>\n",
       "      <td>-0.000113</td>\n",
       "      <td>0.007004</td>\n",
       "      <td>0.003089</td>\n",
       "      <td>0.002655</td>\n",
       "      <td>0.067722</td>\n",
       "      <td>0.027436</td>\n",
       "    </tr>\n",
       "    <tr>\n",
       "      <th>2025-06-21</th>\n",
       "      <td>102120.01</td>\n",
       "      <td>-0.011404</td>\n",
       "      <td>-0.011321</td>\n",
       "      <td>-0.013000</td>\n",
       "      <td>-0.002176</td>\n",
       "      <td>0.003210</td>\n",
       "      <td>-0.021006</td>\n",
       "      <td>0.011369</td>\n",
       "      <td>0.001702</td>\n",
       "      <td>-0.006147</td>\n",
       "      <td>...</td>\n",
       "      <td>0.024614</td>\n",
       "      <td>-0.000900</td>\n",
       "      <td>-0.007940</td>\n",
       "      <td>0.013460</td>\n",
       "      <td>-0.009286</td>\n",
       "      <td>-0.000113</td>\n",
       "      <td>0.007004</td>\n",
       "      <td>0.003089</td>\n",
       "      <td>0.002655</td>\n",
       "      <td>0.067722</td>\n",
       "    </tr>\n",
       "    <tr>\n",
       "      <th>2025-06-22</th>\n",
       "      <td>100963.87</td>\n",
       "      <td>-0.011321</td>\n",
       "      <td>0.043283</td>\n",
       "      <td>-0.011404</td>\n",
       "      <td>-0.013000</td>\n",
       "      <td>-0.002176</td>\n",
       "      <td>0.003210</td>\n",
       "      <td>-0.021006</td>\n",
       "      <td>0.011369</td>\n",
       "      <td>0.001702</td>\n",
       "      <td>...</td>\n",
       "      <td>0.004117</td>\n",
       "      <td>0.024614</td>\n",
       "      <td>-0.000900</td>\n",
       "      <td>-0.007940</td>\n",
       "      <td>0.013460</td>\n",
       "      <td>-0.009286</td>\n",
       "      <td>-0.000113</td>\n",
       "      <td>0.007004</td>\n",
       "      <td>0.003089</td>\n",
       "      <td>0.002655</td>\n",
       "    </tr>\n",
       "    <tr>\n",
       "      <th>2025-06-23</th>\n",
       "      <td>105333.93</td>\n",
       "      <td>0.043283</td>\n",
       "      <td>0.000817</td>\n",
       "      <td>-0.011321</td>\n",
       "      <td>-0.011404</td>\n",
       "      <td>-0.013000</td>\n",
       "      <td>-0.002176</td>\n",
       "      <td>0.003210</td>\n",
       "      <td>-0.021006</td>\n",
       "      <td>0.011369</td>\n",
       "      <td>...</td>\n",
       "      <td>-0.010638</td>\n",
       "      <td>0.004117</td>\n",
       "      <td>0.024614</td>\n",
       "      <td>-0.000900</td>\n",
       "      <td>-0.007940</td>\n",
       "      <td>0.013460</td>\n",
       "      <td>-0.009286</td>\n",
       "      <td>-0.000113</td>\n",
       "      <td>0.007004</td>\n",
       "      <td>0.003089</td>\n",
       "    </tr>\n",
       "    <tr>\n",
       "      <th>2025-06-24</th>\n",
       "      <td>105420.00</td>\n",
       "      <td>0.000817</td>\n",
       "      <td>NaN</td>\n",
       "      <td>0.043283</td>\n",
       "      <td>-0.011321</td>\n",
       "      <td>-0.011404</td>\n",
       "      <td>-0.013000</td>\n",
       "      <td>-0.002176</td>\n",
       "      <td>0.003210</td>\n",
       "      <td>-0.021006</td>\n",
       "      <td>...</td>\n",
       "      <td>-0.016470</td>\n",
       "      <td>-0.010638</td>\n",
       "      <td>0.004117</td>\n",
       "      <td>0.024614</td>\n",
       "      <td>-0.000900</td>\n",
       "      <td>-0.007940</td>\n",
       "      <td>0.013460</td>\n",
       "      <td>-0.009286</td>\n",
       "      <td>-0.000113</td>\n",
       "      <td>0.007004</td>\n",
       "    </tr>\n",
       "  </tbody>\n",
       "</table>\n",
       "<p>5 rows × 63 columns</p>\n",
       "</div>"
      ],
      "text/plain": [
       "                Close   Returns    Target     lag_1     lag_2     lag_3  \\\n",
       "Date                                                                      \n",
       "2025-06-20  103297.99 -0.013000 -0.011404 -0.002176  0.003210 -0.021006   \n",
       "2025-06-21  102120.01 -0.011404 -0.011321 -0.013000 -0.002176  0.003210   \n",
       "2025-06-22  100963.87 -0.011321  0.043283 -0.011404 -0.013000 -0.002176   \n",
       "2025-06-23  105333.93  0.043283  0.000817 -0.011321 -0.011404 -0.013000   \n",
       "2025-06-24  105420.00  0.000817       NaN  0.043283 -0.011321 -0.011404   \n",
       "\n",
       "               lag_4     lag_5     lag_6     lag_7  ...    lag_51    lag_52  \\\n",
       "Date                                                ...                       \n",
       "2025-06-20  0.011369  0.001702 -0.006147  0.003737  ... -0.000900 -0.007940   \n",
       "2025-06-21 -0.021006  0.011369  0.001702 -0.006147  ...  0.024614 -0.000900   \n",
       "2025-06-22  0.003210 -0.021006  0.011369  0.001702  ...  0.004117  0.024614   \n",
       "2025-06-23 -0.002176  0.003210 -0.021006  0.011369  ... -0.010638  0.004117   \n",
       "2025-06-24 -0.013000 -0.002176  0.003210 -0.021006  ... -0.016470 -0.010638   \n",
       "\n",
       "              lag_53    lag_54    lag_55    lag_56    lag_57    lag_58  \\\n",
       "Date                                                                     \n",
       "2025-06-20  0.013460 -0.009286 -0.000113  0.007004  0.003089  0.002655   \n",
       "2025-06-21 -0.007940  0.013460 -0.009286 -0.000113  0.007004  0.003089   \n",
       "2025-06-22 -0.000900 -0.007940  0.013460 -0.009286 -0.000113  0.007004   \n",
       "2025-06-23  0.024614 -0.000900 -0.007940  0.013460 -0.009286 -0.000113   \n",
       "2025-06-24  0.004117  0.024614 -0.000900 -0.007940  0.013460 -0.009286   \n",
       "\n",
       "              lag_59    lag_60  \n",
       "Date                            \n",
       "2025-06-20  0.067722  0.027436  \n",
       "2025-06-21  0.002655  0.067722  \n",
       "2025-06-22  0.003089  0.002655  \n",
       "2025-06-23  0.007004  0.003089  \n",
       "2025-06-24 -0.000113  0.007004  \n",
       "\n",
       "[5 rows x 63 columns]"
      ]
     },
     "execution_count": 6,
     "metadata": {},
     "output_type": "execute_result"
    }
   ],
   "source": [
    "df1.tail()"
   ]
  },
  {
   "cell_type": "markdown",
   "metadata": {},
   "source": [
    "## Cálculo do valor Z \n",
    "\n",
    "Serão calculadas as médias e variâncias de duas amostras contendo N_DIAS dias,\n",
    "então será calculado o valor Z e a sua região crítica baseado em $\\alpha$\n"
   ]
  },
  {
   "cell_type": "code",
   "execution_count": 7,
   "metadata": {},
   "outputs": [],
   "source": [
    "# calculando a variância dos períodos\n",
    "df1['var_1']  = df1.iloc[:, 3+N_DIAS:3+(N_DIAS*2)].var(axis=1)\n",
    "df1['var_2']  = df1.iloc[:, 3:3+N_DIAS].var(axis=1) \n",
    "\n",
    "# Cálculo da médias \n",
    "df1['mean_1'] = df1.iloc[:, 3+N_DIAS: 3+(N_DIAS*2)].mean(axis = 1)\n",
    "df1['mean_2'] = df1.iloc[:, 3: 3+N_DIAS].mean(axis = 1)"
   ]
  },
  {
   "cell_type": "code",
   "execution_count": 8,
   "metadata": {},
   "outputs": [],
   "source": [
    "# teste de hipótese para média \n",
    "df1['z'] = np.round((df1['mean_1'] - df1['mean_2'])/ np.sqrt((df1['var_1']/LAG_DAYS*0.5)+(df1['var_2']/LAG_DAYS*0.5)),2)\n",
    "\n",
    "\n",
    "# Valores críticos\n",
    "from scipy.stats import norm\n",
    "\n",
    "#GRAUS_LIBERDADE = LAG_DAYS*2 - 2  # Graus de liberdade para o teste t\n",
    "\n",
    "ALPHA = 0.05  # Nível de significância\n",
    "\n",
    "# Valores críticos para o teste z\n",
    "X_CRIT_1 = np.round(norm.ppf(1 - ALPHA),2)  # 95% confidence level, two-tailed test\n",
    "X_CRIT_2 = np.round(X_CRIT_1 * (-1),2)"
   ]
  },
  {
   "cell_type": "code",
   "execution_count": 9,
   "metadata": {},
   "outputs": [
    {
     "name": "stdout",
     "output_type": "stream",
     "text": [
      "Região Crítica:\n",
      "Valore maiores que: 1.64\n",
      "Valore menores que: -1.64\n"
     ]
    }
   ],
   "source": [
    "print('Região Crítica:')\n",
    "print(f'Valore maiores que: {X_CRIT_1}')\n",
    "print(f'Valore menores que: {X_CRIT_2}')"
   ]
  },
  {
   "cell_type": "markdown",
   "metadata": {},
   "source": [
    "## Gráficos "
   ]
  },
  {
   "cell_type": "code",
   "execution_count": 10,
   "metadata": {},
   "outputs": [
    {
     "data": {
      "image/png": "[encoded data removed]",
      "text/plain": [
       "<Figure size 700x400 with 1 Axes>"
      ]
     },
     "metadata": {},
     "output_type": "display_data"
    }
   ],
   "source": [
    "# criando o gráfico\n",
    "fig, ax = plt.subplots(figsize=(7, 4))\n",
    "\n",
    "# plot do valor z \n",
    "ax.plot(df1.index, df1['z'], color='black', label='z')\n",
    "\n",
    "# Adicionando linhas horizontais para os valores críticos\n",
    "ax.axhline(y=X_CRIT_1, color='red', linestyle='--', linewidth=2, label=f'Z crítico ({X_CRIT_1})')\n",
    "ax.axhline(y=X_CRIT_2, color='red', linestyle='--', linewidth=2, label=f'Z crítico ({X_CRIT_2})')\n",
    "# Mostrando apenas os anos no eixo x\n",
    "ax.xaxis.set_major_formatter(DateFormatter('%Y'))\n",
    "\n",
    "ax.legend(loc='lower right', fontsize=10, frameon=False)\n",
    "\n",
    "# layout \n",
    "plt.title('Teste de hipótese sobre média para vars conhecidas', fontsize=15, color='black')\n",
    "plt.xlabel('Years', fontsize=12, color='black')\n",
    "plt.ylabel('Z', fontsize=12, color=\"black\") \n",
    "plt.grid(True)\n",
    "plt.tight_layout()\n",
    "plt.show()"
   ]
  },
  {
   "cell_type": "code",
   "execution_count": 11,
   "metadata": {},
   "outputs": [
    {
     "data": {
      "image/png": "[encoded data removed]",
      "text/plain": [
       "<Figure size 1200x700 with 2 Axes>"
      ]
     },
     "metadata": {},
     "output_type": "display_data"
    }
   ],
   "source": [
    "fig =  plt.figure(figsize=(12, 7))\n",
    "gs = gridspec.GridSpec(2, 1, height_ratios=[2, 1],  hspace=0.2) # define a proporção de altura dos subplots\n",
    "\n",
    "ax0 = fig.add_subplot(gs[0]) # primeiro subplot\n",
    "ax1 = fig.add_subplot(gs[1]) # segundo subplot \n",
    "axs = [ax0, ax1] # lista de eixos para facilitar o acesso\n",
    "\n",
    "# Plotando o gráfico de preços e o valor z\n",
    "axs[0].plot(df1.index, df1['Close'], color='black', label= TICKER, linewidth=1)\n",
    "\n",
    "axs[0].scatter(df1.index, np.where(df1['z'].values < X_CRIT_2, df1['Close'], np.nan),\n",
    "            color=\"blue\", label='Z crítico', s=12)   \n",
    "axs[0].scatter(df1.index, np.where(df1['z'].values > X_CRIT_1, df1['Close'], np.nan),\n",
    "            color='red', label='Z crítico', s=12)\n",
    "\n",
    "axs[0].set_ylabel('Price', fontsize=15, color='black', labelpad=15)\n",
    "axs[0].legend()\n",
    "axs[0].grid(True)  \n",
    "\n",
    "\n",
    "axs[1].plot(df1.index, df1['z'], color='black', label='z', linewidth=1)\n",
    "axs[1].axhline(y=X_CRIT_1, color=\"red\", linestyle='--', linewidth=2)\n",
    "axs[1].axhline(y=X_CRIT_2, color='red', linestyle='--',    linewidth=2)    \n",
    "axs[1].set_ylabel(\"Z\", fontsize=15, color='black')\n",
    "axs[1].legend()\n",
    "axs[1].grid(True)\n",
    "\n",
    "# Alinhando os gráficos - estabelecendo os mesmos limites para o eixo x\n",
    "axs[0].set_xlim(df1.index.min(), df1.index.max())  \n",
    "axs[1].set_xlim(df1.index.min(), df1.index.max()) \n",
    "    \n",
    "# Layout \n",
    "fig.tight_layout()\n",
    "fig.suptitle(f'Teste de Hipótese aplicado no {TICKER}', fontsize=20, color='black')\n",
    "fig.show()"
   ]
  }
 ],
 "metadata": {
  "kernelspec": {
   "display_name": "Python 3",
   "language": "python",
   "name": "python3"
  },
  "language_info": {
   "codemirror_mode": {
    "name": "ipython",
    "version": 3
   },
   "file_extension": ".py",
   "mimetype": "text/x-python",
   "name": "python",
   "nbconvert_exporter": "python",
   "pygments_lexer": "ipython3",
   "version": "3.12.4"
  }
 },
 "nbformat": 4,
 "nbformat_minor": 4
}
